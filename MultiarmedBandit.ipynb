{
 "cells": [
  {
   "cell_type": "code",
   "execution_count": 104,
   "metadata": {},
   "outputs": [],
   "source": [
    "import numpy as np\n",
    "import random\n",
    "from matplotlib import pyplot as plt"
   ]
  },
  {
   "cell_type": "markdown",
   "metadata": {},
   "source": [
    "# Multi Armed Bandit Problem"
   ]
  },
  {
   "cell_type": "markdown",
   "metadata": {},
   "source": []
  },
  {
   "cell_type": "markdown",
   "metadata": {},
   "source": [
    "<img src=\"epsilongreedy.png\">"
   ]
  },
  {
   "cell_type": "code",
   "execution_count": 100,
   "metadata": {},
   "outputs": [],
   "source": [
    "class bandit:\n",
    "    #Inicialization\n",
    "    # levers: integer, number of levers\n",
    "    # real_distribution: list, a list containing the ground truth probability of recieving a reward respectively\n",
    "    # observed: list, a list containing the observed probability of recieving a reward respectively \n",
    "    # observed_size: list, a list of many times has each lever been pulled respectively\n",
    "    # epsilon: float, a number between 0 and 1.\n",
    "    # tot_reward: int, historic reward\n",
    "    def __init__(self, levers, real_distribution, observed, observed_size, epsilon, tot_reward=0):\n",
    "        self.levers=levers\n",
    "        self.real_distribution=real_distribution\n",
    "        self.observed=observed\n",
    "        self.observed_size=observed_size\n",
    "        self.epsilon=epsilon\n",
    "        self.tot_reward=tot_reward\n",
    "    # Choose the best lever\n",
    "    def choose_greedy(self):\n",
    "        index=self.observed.index(max(self.observed))\n",
    "        return(index)\n",
    "    \n",
    "    def observe_reward(self,num_lever):\n",
    "        reward=np.random.uniform(0,1)<self.real_distribution[num_lever]\n",
    "        return(reward)\n",
    "    \n",
    "    def greedy(self, periods):\n",
    "        lever=self.choose_greedy()\n",
    "        reward=0\n",
    "        for i in range(periods):\n",
    "            reward=reward+self.observe_reward\n",
    "        return(reward/periods)\n",
    "    \n",
    "    # Choose between eploration or explotation depending of epsilon probability\n",
    "    def explore_or_exploit(self):\n",
    "        explore=np.random.uniform(0,1)<self.epsilon\n",
    "        return(explore)\n",
    "    \n",
    "    # The corresponding entry of the observed and observed_size lists are updated\n",
    "    def update_observed(self, num_lever, reward):\n",
    "        self.observed[num_lever]=(self.observed[num_lever]*self.observed_size[num_lever]+reward)/(self.observed_size[num_lever]+1)\n",
    "        self.observed_size[num_lever]=self.observed_size[num_lever]+1\n",
    "        \n",
    "    # Epsilon Grredy model\n",
    "    def choose_e_greedy(self):\n",
    "        action=self.explore_or_exploit()\n",
    "        if action:\n",
    "            which=random.randint(0,(self.levers-1))\n",
    "            reward=self.observe_reward(which)\n",
    "            self.tot_reward=self.tot_reward+reward\n",
    "            self.update_observed(which, reward)\n",
    "        else:\n",
    "            which=self.choose_greedy()\n",
    "            reward=self.observe_reward(which)\n",
    "            self.tot_reward=self.tot_reward+reward\n",
    "            self.update_observed(which, reward)"
   ]
  },
  {
   "cell_type": "code",
   "execution_count": 128,
   "metadata": {},
   "outputs": [],
   "source": [
    "test=bandit(levers=3, real_distribution=[0.1, 0.2, 0.3], observed=[0.5, 0.3, 0.2], observed_size=[2, 5, 8] , epsilon=0.1, tot_reward=0)\n",
    "N=10000 # periods of simulation"
   ]
  },
  {
   "cell_type": "code",
   "execution_count": 129,
   "metadata": {},
   "outputs": [],
   "source": [
    "# Simulation\n",
    "rewards=[test.tot_reward]\n",
    "for i in range(N):\n",
    "    test.choose_e_greedy()\n",
    "    rewards.append(test.tot_reward)"
   ]
  },
  {
   "cell_type": "code",
   "execution_count": 130,
   "metadata": {},
   "outputs": [
    {
     "data": {
      "text/plain": [
       "[<matplotlib.lines.Line2D at 0x22f8a990710>]"
      ]
     },
     "execution_count": 130,
     "metadata": {},
     "output_type": "execute_result"
    },
    {
     "data": {
      "image/png": "[encoded data removed]",
      "text/plain": [
       "<Figure size 432x288 with 1 Axes>"
      ]
     },
     "metadata": {
      "needs_background": "light"
     },
     "output_type": "display_data"
    }
   ],
   "source": [
    "plt.plot(range(len(rewards)), rewards)"
   ]
  },
  {
   "cell_type": "code",
   "execution_count": 131,
   "metadata": {},
   "outputs": [],
   "source": [
    "expected_reward=[rewards[i]/(range(len(rewards))[i]+1) for i in range(len(rewards))]"
   ]
  },
  {
   "cell_type": "code",
   "execution_count": 132,
   "metadata": {},
   "outputs": [
    {
     "data": {
      "text/plain": [
       "[<matplotlib.lines.Line2D at 0x22f8a817ef0>]"
      ]
     },
     "execution_count": 132,
     "metadata": {},
     "output_type": "execute_result"
    },
    {
     "data": {
      "image/png": "[encoded data removed]",
      "text/plain": [
       "<Figure size 432x288 with 1 Axes>"
      ]
     },
     "metadata": {
      "needs_background": "light"
     },
     "output_type": "display_data"
    }
   ],
   "source": [
    "plt.plot(range(len(rewards)), expected_reward)"
   ]
  },
  {
   "cell_type": "code",
   "execution_count": null,
   "metadata": {},
   "outputs": [],
   "source": []
  }
 ],
 "metadata": {
  "kernelspec": {
   "display_name": "Python 3",
   "language": "python",
   "name": "python3"
  },
  "language_info": {
   "codemirror_mode": {
    "name": "ipython",
    "version": 3
   },
   "file_extension": ".py",
   "mimetype": "text/x-python",
   "name": "python",
   "nbconvert_exporter": "python",
   "pygments_lexer": "ipython3",
   "version": "3.6.7"
  }
 },
 "nbformat": 4,
 "nbformat_minor": 2
}
