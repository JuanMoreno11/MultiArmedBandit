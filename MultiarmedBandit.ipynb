{
 "cells": [
  {
   "cell_type": "code",
   "execution_count": 1,
   "metadata": {},
   "outputs": [],
   "source": [
    "import numpy as np\n",
    "import random"
   ]
  },
  {
   "cell_type": "markdown",
   "metadata": {},
   "source": [
    "# Multi Armed Bandit Problem"
   ]
  },
  {
   "cell_type": "code",
   "execution_count": null,
   "metadata": {},
   "outputs": [],
   "source": [
    "class bandit:\n",
    "    # \n",
    "    def __init__(levers, real_distribution, observed, epsilon):\n",
    "        self.levers=levers\n",
    "        self.real_distribution=real_distribution\n",
    "        self.observed=observed\n",
    "        self.epsilon=epsilon\n",
    "        \n",
    "    def choose_greedy():\n",
    "        index=self.observed.index(max(self.observed))\n",
    "        return(index)\n",
    "    \n",
    "    def observe_reward(num_lever):\n",
    "        reward=np.random.uniform(0,1)<self.real_distribution[num_lever]\n",
    "        return(reward)\n",
    "    \n",
    "    def greedy(periods):\n",
    "        lever=self.choose_greedy()\n",
    "        reward=0\n",
    "        for i in range(periods):\n",
    "            reward=reward+self.observe_reward\n",
    "        return(reward/periods)\n",
    "    \n",
    "    def explore_or_exploit():\n",
    "        explore=np.random.uniform(0,1)<self.epsilon\n",
    "        \n",
    "    def choose_e_greedy:\n",
    "        "
   ]
  },
  {
   "cell_type": "code",
   "execution_count": null,
   "metadata": {},
   "outputs": [],
   "source": []
  },
  {
   "cell_type": "code",
   "execution_count": null,
   "metadata": {},
   "outputs": [],
   "source": []
  },
  {
   "cell_type": "code",
   "execution_count": null,
   "metadata": {},
   "outputs": [],
   "source": []
  }
 ],
 "metadata": {
  "kernelspec": {
   "display_name": "Python 3",
   "language": "python",
   "name": "python3"
  },
  "language_info": {
   "codemirror_mode": {
    "name": "ipython",
    "version": 3
   },
   "file_extension": ".py",
   "mimetype": "text/x-python",
   "name": "python",
   "nbconvert_exporter": "python",
   "pygments_lexer": "ipython3",
   "version": "3.6.7"
  }
 },
 "nbformat": 4,
 "nbformat_minor": 2
}
